{
 "cells": [
  {
   "cell_type": "code",
   "execution_count": 1,
   "metadata": {},
   "outputs": [
    {
     "name": "stdout",
     "output_type": "stream",
     "text": [
      "Bir hata oluştu!\n",
      "Bloklar sona erdi!\n"
     ]
    }
   ],
   "source": [
    "try:\n",
    "    a=int(\"djkfhkdsj256\")\n",
    "    print(\"Program burada\")\n",
    "except:\n",
    "    print(\"Bir hata oluştu!\")\n",
    "print(\"Bloklar sona erdi!\")\n"
   ]
  },
  {
   "cell_type": "code",
   "execution_count": 2,
   "metadata": {},
   "outputs": [
    {
     "name": "stdout",
     "output_type": "stream",
     "text": [
      "Program burada\n",
      "Bloklar sona erdi!\n"
     ]
    }
   ],
   "source": [
    "try:\n",
    "    a=int(\"23\")\n",
    "    print(\"Program burada\")\n",
    "except:\n",
    "    print(\"Bir hata olustu\")\n",
    "print(\"Bloklar sona erdi!\")"
   ]
  },
  {
   "cell_type": "code",
   "execution_count": 4,
   "metadata": {},
   "outputs": [
    {
     "name": "stdout",
     "output_type": "stream",
     "text": [
      "Sayı1:5\n",
      "Sayı2:asd5\n",
      "Lütfen inputu doğru giriniz\n",
      "Bloklar sona erdi...\n"
     ]
    }
   ],
   "source": [
    "try:\n",
    "    a=int(input(\"Sayı1:\"))\n",
    "    b=int(input(\"Sayı2:\"))\n",
    "    print(a/b)\n",
    "except ValueError:\n",
    "    print(\"Lütfen inputu doğru giriniz\")\n",
    "except ZeroDivisionError:\n",
    "    print(\"Bir sayı 0'a bölünemez.\")\n",
    "print(\"Bloklar sona erdi...\")"
   ]
  },
  {
   "cell_type": "code",
   "execution_count": 5,
   "metadata": {},
   "outputs": [
    {
     "name": "stdout",
     "output_type": "stream",
     "text": [
      "Sayı1:12\n",
      "Sayı2:0\n",
      "Bir sayı 0'a bölünemez.\n",
      "Bloklar sona erdi...\n"
     ]
    }
   ],
   "source": [
    "try:\n",
    "    a=int(input(\"Sayı1:\"))\n",
    "    b=int(input(\"Sayı2:\"))\n",
    "    print(a/b)\n",
    "except ValueError:\n",
    "    print(\"Lütfen inputu doğru girin.\")\n",
    "except ZeroDivisionError:\n",
    "    print(\"Bir sayı 0'a bölünemez.\")\n",
    "print(\"Bloklar sona erdi...\")"
   ]
  },
  {
   "cell_type": "code",
   "execution_count": null,
   "metadata": {},
   "outputs": [],
   "source": [
    "try:\n",
    "    a=int(input(\"Sayı1:\"))\n",
    "    b=int(input(\"Sayı2:\"))\n",
    "    print(a/b)\n",
    "except ValueError:\n",
    "    print(\"Lütfen inputu doğru girin.\")\n",
    "except ZeroDivisionError:\n",
    "    print(\"Bir sayı 0'a bölünemez.\")\n",
    "finally:\n",
    "    print(\"Burası çalıştı.\")\n",
    "print(\"Bloklar sona erdi...\")\n"
   ]
  }
 ],
 "metadata": {
  "kernelspec": {
   "display_name": "Python 3",
   "language": "python",
   "name": "python3"
  },
  "language_info": {
   "codemirror_mode": {
    "name": "ipython",
    "version": 3
   },
   "file_extension": ".py",
   "mimetype": "text/x-python",
   "name": "python",
   "nbconvert_exporter": "python",
   "pygments_lexer": "ipython3",
   "version": "3.7.3"
  }
 },
 "nbformat": 4,
 "nbformat_minor": 2
}
