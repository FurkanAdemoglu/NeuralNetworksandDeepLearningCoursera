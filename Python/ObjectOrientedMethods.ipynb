{
 "cells": [
  {
   "cell_type": "code",
   "execution_count": 18,
   "metadata": {},
   "outputs": [],
   "source": [
    "class Yazılımcı():\n",
    "    def __init__(self,isim,soyisim,numara,maaş,diller):\n",
    "        self.isim=isim\n",
    "        self.soyisim=soyisim\n",
    "        self.numara=numara\n",
    "        self.maaş=maaş\n",
    "        self.diller=diller\n",
    "    def bilgilerigöster(self):\n",
    "        print(\"\"\"\n",
    "        Yazılımcı objesinin Özellikleri\n",
    "        \n",
    "        İsim:{}\n",
    "        \n",
    "        Soyisim:{}\n",
    "        \n",
    "        Numara:{}\n",
    "        \n",
    "        Maaş:{}\n",
    "        \n",
    "        Bildiği Diller:{}\"\"\"\n",
    "        .format(self.isim,self.soyisim,self.numara,self.maaş,self.diller))\n",
    "    def zam_yap(self,zam_miktarı):\n",
    "        print(\"Zam yapılıyor...\")\n",
    "        self.maaş+=zam_miktarı\n",
    "    def dil_ekle(self,yeni_dil):\n",
    "        print(\"Dil ekleniyor...\")\n",
    "        self.diller.append(yeni_dil)"
   ]
  },
  {
   "cell_type": "code",
   "execution_count": 19,
   "metadata": {},
   "outputs": [],
   "source": [
    "yazılımcı=Yazılımcı(\"Furkan\",\"Ademoğlu\",12354,2000,[\"C\",\"C++\",\"pYTHON\"])"
   ]
  },
  {
   "cell_type": "code",
   "execution_count": 20,
   "metadata": {},
   "outputs": [
    {
     "data": {
      "text/plain": [
       "<__main__.Yazılımcı at 0x164d233a358>"
      ]
     },
     "execution_count": 20,
     "metadata": {},
     "output_type": "execute_result"
    }
   ],
   "source": [
    "yazılımcı"
   ]
  },
  {
   "cell_type": "code",
   "execution_count": 21,
   "metadata": {},
   "outputs": [
    {
     "name": "stdout",
     "output_type": "stream",
     "text": [
      "\n",
      "        Yazılımcı objesinin Özellikleri\n",
      "        \n",
      "        İsim:Furkan\n",
      "        \n",
      "        Soyisim:Ademoğlu\n",
      "        \n",
      "        Numara:12354\n",
      "        \n",
      "        Maaş:2000\n",
      "        \n",
      "        Bildiği Diller:['C', 'C++', 'pYTHON']\n"
     ]
    }
   ],
   "source": [
    "yazılımcı.bilgilerigöster()"
   ]
  },
  {
   "cell_type": "code",
   "execution_count": 22,
   "metadata": {},
   "outputs": [
    {
     "name": "stdout",
     "output_type": "stream",
     "text": [
      "Dil ekleniyor...\n"
     ]
    }
   ],
   "source": [
    "yazılımcı.dil_ekle(\"Java\")"
   ]
  },
  {
   "cell_type": "code",
   "execution_count": 23,
   "metadata": {},
   "outputs": [
    {
     "name": "stdout",
     "output_type": "stream",
     "text": [
      "\n",
      "        Yazılımcı objesinin Özellikleri\n",
      "        \n",
      "        İsim:Furkan\n",
      "        \n",
      "        Soyisim:Ademoğlu\n",
      "        \n",
      "        Numara:12354\n",
      "        \n",
      "        Maaş:2000\n",
      "        \n",
      "        Bildiği Diller:['C', 'C++', 'pYTHON', 'Java']\n"
     ]
    }
   ],
   "source": [
    "yazılımcı.bilgilerigöster()"
   ]
  },
  {
   "cell_type": "code",
   "execution_count": null,
   "metadata": {},
   "outputs": [],
   "source": []
  }
 ],
 "metadata": {
  "kernelspec": {
   "display_name": "Python 3",
   "language": "python",
   "name": "python3"
  },
  "language_info": {
   "codemirror_mode": {
    "name": "ipython",
    "version": 3
   },
   "file_extension": ".py",
   "mimetype": "text/x-python",
   "name": "python",
   "nbconvert_exporter": "python",
   "pygments_lexer": "ipython3",
   "version": "3.7.3"
  }
 },
 "nbformat": 4,
 "nbformat_minor": 2
}
