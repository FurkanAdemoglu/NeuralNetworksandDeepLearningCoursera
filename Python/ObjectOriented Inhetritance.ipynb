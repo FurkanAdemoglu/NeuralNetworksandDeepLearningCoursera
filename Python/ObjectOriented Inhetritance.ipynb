{
 "cells": [
  {
   "cell_type": "code",
   "execution_count": 1,
   "metadata": {},
   "outputs": [],
   "source": [
    "class Çalışan():\n",
    "    def __init__(self,isim,maaş,departman):\n",
    "        print(\"Çalışan sınıfının init fonksiyonu\")\n",
    "        self.isim=isim\n",
    "        self.maaş=maaş\n",
    "        self.departman=departman\n",
    "    def bilgilerigöster(self):\n",
    "        print(\"Çalışan sınıfının bilgileri ....\")\n",
    "        print(\"İsim:{}\\nMaaş:{}\\nDepartman:{}\\n\".format(self.isim,self.maaş,self.departman))\n",
    "        \n",
    "    def departman_değiştir(self,yeni_departman):\n",
    "        self.departman=yeni_departman"
   ]
  },
  {
   "cell_type": "code",
   "execution_count": 2,
   "metadata": {},
   "outputs": [],
   "source": [
    "class Yönetici(Çalışan):\n",
    "    pass"
   ]
  },
  {
   "cell_type": "code",
   "execution_count": 3,
   "metadata": {},
   "outputs": [
    {
     "name": "stdout",
     "output_type": "stream",
     "text": [
      "Çalışan sınıfının init fonksiyonu\n"
     ]
    }
   ],
   "source": [
    "yönetici=Yönetici(\"Furkan Ademoğlu\",3434,\"Bilişim\")\n"
   ]
  },
  {
   "cell_type": "code",
   "execution_count": 4,
   "metadata": {},
   "outputs": [
    {
     "name": "stdout",
     "output_type": "stream",
     "text": [
      "Çalışan sınıfının bilgileri ....\n",
      "İsim:Furkan Ademoğlu\n",
      "Maaş:3434\n",
      "Departman:Bilişim\n",
      "\n"
     ]
    }
   ],
   "source": [
    "yönetici.bilgilerigöster()"
   ]
  },
  {
   "cell_type": "code",
   "execution_count": 5,
   "metadata": {},
   "outputs": [],
   "source": [
    "yönetici.departman_değiştir(\"İnsan Kaynakları\")"
   ]
  },
  {
   "cell_type": "code",
   "execution_count": 6,
   "metadata": {},
   "outputs": [
    {
     "name": "stdout",
     "output_type": "stream",
     "text": [
      "Çalışan sınıfının bilgileri ....\n",
      "İsim:Furkan Ademoğlu\n",
      "Maaş:3434\n",
      "Departman:İnsan Kaynakları\n",
      "\n"
     ]
    }
   ],
   "source": [
    "yönetici.bilgilerigöster()"
   ]
  },
  {
   "cell_type": "code",
   "execution_count": 7,
   "metadata": {},
   "outputs": [],
   "source": [
    "class Yönetici(Çalışan):\n",
    "    def zam_yap(self,zam_miktarı):\n",
    "        self.maaş+=zam_miktarı"
   ]
  },
  {
   "cell_type": "code",
   "execution_count": 8,
   "metadata": {},
   "outputs": [
    {
     "name": "stdout",
     "output_type": "stream",
     "text": [
      "Çalışan sınıfının init fonksiyonu\n"
     ]
    }
   ],
   "source": [
    "yönetici=Yönetici(\"Serhat Bey\",3500,\"Pazarlama\")"
   ]
  },
  {
   "cell_type": "code",
   "execution_count": 10,
   "metadata": {},
   "outputs": [],
   "source": [
    "yönetici.zam_yap(52)"
   ]
  },
  {
   "cell_type": "code",
   "execution_count": 11,
   "metadata": {},
   "outputs": [
    {
     "name": "stdout",
     "output_type": "stream",
     "text": [
      "Çalışan sınıfının bilgileri ....\n",
      "İsim:Serhat Bey\n",
      "Maaş:3552\n",
      "Departman:Pazarlama\n",
      "\n"
     ]
    }
   ],
   "source": [
    "yönetici.bilgilerigöster()"
   ]
  },
  {
   "cell_type": "code",
   "execution_count": 12,
   "metadata": {},
   "outputs": [],
   "source": [
    "class Çalışan():\n",
    "    def __init__(self,isim,maaş,departman):\n",
    "        print(\"Çalışan sınıfının init fonksiyonu\")\n",
    "        self.isim=isim\n",
    "        self.maaş=maaş\n",
    "        self.departman=departman\n",
    "    def bilgilerigöster(self):\n",
    "        print(\"Çalışan sınıfının bilgileri ....\")\n",
    "        print(\"İsim:{}\\nMaaş:{}\\nDepartman:{}\\n\".format(self.isim,self.maaş,self.departman))\n",
    "        \n",
    "    def departman_değiştir(self,yeni_departman):\n",
    "        self.departman=yeni_departman"
   ]
  },
  {
   "cell_type": "code",
   "execution_count": 15,
   "metadata": {},
   "outputs": [],
   "source": [
    "class Yönetici(Çalışan):\n",
    "    def __init__(self,isim,maaş,departman,kişi_sayısı):\n",
    "        print(\"Yönetici sınıfının init fonksiyonu\")\n",
    "        \n",
    "        self.isim=isim\n",
    "        self.maaş=maaş\n",
    "        self.departman=departman\n",
    "        self.kişi_sayısı=kişi_sayısı\n",
    "    def zam_yap(self,zam_miktarı):\n",
    "        self.maaş+=zam_miktarı"
   ]
  },
  {
   "cell_type": "code",
   "execution_count": 16,
   "metadata": {},
   "outputs": [
    {
     "name": "stdout",
     "output_type": "stream",
     "text": [
      "Yönetici sınıfının init fonksiyonu\n"
     ]
    }
   ],
   "source": [
    "yönetici=Yönetici(\"Furkan\",4454,\"Bilişim\",10)"
   ]
  },
  {
   "cell_type": "code",
   "execution_count": null,
   "metadata": {},
   "outputs": [],
   "source": []
  }
 ],
 "metadata": {
  "kernelspec": {
   "display_name": "Python 3",
   "language": "python",
   "name": "python3"
  },
  "language_info": {
   "codemirror_mode": {
    "name": "ipython",
    "version": 3
   },
   "file_extension": ".py",
   "mimetype": "text/x-python",
   "name": "python",
   "nbconvert_exporter": "python",
   "pygments_lexer": "ipython3",
   "version": "3.7.3"
  }
 },
 "nbformat": 4,
 "nbformat_minor": 2
}
