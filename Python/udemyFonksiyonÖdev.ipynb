{
 "cells": [
  {
   "cell_type": "code",
   "execution_count": 1,
   "metadata": {},
   "outputs": [
    {
     "name": "stdout",
     "output_type": "stream",
     "text": [
      "Mükemmel Sayı: 6\n",
      "Mükemmel Sayı: 28\n",
      "Mükemmel Sayı: 496\n"
     ]
    }
   ],
   "source": [
    "def mukemmel(sayı):\n",
    "    \n",
    "    toplam = 0\n",
    "    \n",
    "    for i in range(1,sayı):\n",
    "        \n",
    "        if (sayı % i == 0):\n",
    "            toplam += i\n",
    "            \n",
    "    return toplam == sayı\n",
    "\n",
    "\n",
    "for i in range(1,1001):\n",
    "    if (mukemmel(i)):\n",
    "        print(\"Mükemmel Sayı:\",i)"
   ]
  },
  {
   "cell_type": "code",
   "execution_count": 4,
   "metadata": {},
   "outputs": [
    {
     "name": "stdout",
     "output_type": "stream",
     "text": [
      "Bir sayı giriniz25\n",
      "Bir sayı giriniz5\n",
      "ebob: 5\n"
     ]
    }
   ],
   "source": [
    "def ebob(a,b):\n",
    "    ebob=1\n",
    "    for i in range(1,a):\n",
    "        x=a%i\n",
    "        y=a%i\n",
    "        if(x==0 and y==0):\n",
    "            ebob=i\n",
    "    return ebob\n",
    "t=int(input(\"Bir sayı giriniz\"))\n",
    "l=int(input(\"Bir sayı giriniz\"))\n",
    "print(\"ebob:\",ebob(t,l))                "
   ]
  },
  {
   "cell_type": "code",
   "execution_count": null,
   "metadata": {},
   "outputs": [],
   "source": [
    "birler=[\"\",\"Bir\",\"İki\"]"
   ]
  }
 ],
 "metadata": {
  "kernelspec": {
   "display_name": "Python 3",
   "language": "python",
   "name": "python3"
  },
  "language_info": {
   "codemirror_mode": {
    "name": "ipython",
    "version": 3
   },
   "file_extension": ".py",
   "mimetype": "text/x-python",
   "name": "python",
   "nbconvert_exporter": "python",
   "pygments_lexer": "ipython3",
   "version": "3.7.3"
  }
 },
 "nbformat": 4,
 "nbformat_minor": 2
}
