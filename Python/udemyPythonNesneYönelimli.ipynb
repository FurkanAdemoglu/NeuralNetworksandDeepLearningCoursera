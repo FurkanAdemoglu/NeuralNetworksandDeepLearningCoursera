{
 "cells": [
  {
   "cell_type": "code",
   "execution_count": 17,
   "metadata": {},
   "outputs": [
    {
     "name": "stdout",
     "output_type": "stream",
     "text": [
      "Marka: Lenovo   RAM:16GB   İSLEMCİ:i7-6700hq  EKRANKARTI:8\n"
     ]
    },
    {
     "ename": "UnboundLocalError",
     "evalue": "local variable 'ram' referenced before assignment",
     "output_type": "error",
     "traceback": [
      "\u001b[1;31m---------------------------------------------------------------------------\u001b[0m",
      "\u001b[1;31mUnboundLocalError\u001b[0m                         Traceback (most recent call last)",
      "\u001b[1;32m<ipython-input-17-8017c43861bc>\u001b[0m in \u001b[0;36m<module>\u001b[1;34m\u001b[0m\n\u001b[0;32m     15\u001b[0m \u001b[0mbilgisayar1\u001b[0m\u001b[1;33m=\u001b[0m\u001b[0mBilgisayar\u001b[0m\u001b[1;33m(\u001b[0m\u001b[1;34m\"Lenovo\"\u001b[0m\u001b[1;33m,\u001b[0m\u001b[1;34m\"16GB\"\u001b[0m\u001b[1;33m,\u001b[0m\u001b[1;34m\"i7-6700hq\"\u001b[0m\u001b[1;33m,\u001b[0m\u001b[1;36m8\u001b[0m\u001b[1;33m)\u001b[0m\u001b[1;33m\u001b[0m\u001b[1;33m\u001b[0m\u001b[0m\n\u001b[0;32m     16\u001b[0m \u001b[0mbilgisayar1\u001b[0m\u001b[1;33m.\u001b[0m\u001b[0mbilgilerigöster\u001b[0m\u001b[1;33m(\u001b[0m\u001b[1;33m)\u001b[0m\u001b[1;33m\u001b[0m\u001b[1;33m\u001b[0m\u001b[0m\n\u001b[1;32m---> 17\u001b[1;33m \u001b[0mbilgisayar1\u001b[0m\u001b[1;33m.\u001b[0m\u001b[0mramarttırma\u001b[0m\u001b[1;33m(\u001b[0m\u001b[1;33m)\u001b[0m\u001b[1;33m\u001b[0m\u001b[1;33m\u001b[0m\u001b[0m\n\u001b[0m\u001b[0;32m     18\u001b[0m \u001b[0mbilgisayar1\u001b[0m\u001b[1;33m.\u001b[0m\u001b[0mçalıştırma\u001b[0m\u001b[1;33m(\u001b[0m\u001b[1;33m)\u001b[0m\u001b[1;33m\u001b[0m\u001b[1;33m\u001b[0m\u001b[0m\n",
      "\u001b[1;32m<ipython-input-17-8017c43861bc>\u001b[0m in \u001b[0;36mramarttırma\u001b[1;34m(self)\u001b[0m\n\u001b[0;32m      8\u001b[0m         \u001b[0mprint\u001b[0m\u001b[1;33m(\u001b[0m\u001b[1;34m\"Marka: {}   RAM:{}   İSLEMCİ:{}  EKRANKARTI:{}\"\u001b[0m\u001b[1;33m.\u001b[0m\u001b[0mformat\u001b[0m\u001b[1;33m(\u001b[0m\u001b[0mself\u001b[0m\u001b[1;33m.\u001b[0m\u001b[0mmarka\u001b[0m\u001b[1;33m,\u001b[0m\u001b[0mself\u001b[0m\u001b[1;33m.\u001b[0m\u001b[0mram\u001b[0m\u001b[1;33m,\u001b[0m\u001b[0mself\u001b[0m\u001b[1;33m.\u001b[0m\u001b[0mislemci\u001b[0m\u001b[1;33m,\u001b[0m\u001b[0mself\u001b[0m\u001b[1;33m.\u001b[0m\u001b[0mekrankartı\u001b[0m\u001b[1;33m)\u001b[0m\u001b[1;33m)\u001b[0m\u001b[1;33m\u001b[0m\u001b[1;33m\u001b[0m\u001b[0m\n\u001b[0;32m      9\u001b[0m     \u001b[1;32mdef\u001b[0m \u001b[0mramarttırma\u001b[0m\u001b[1;33m(\u001b[0m\u001b[0mself\u001b[0m\u001b[1;33m)\u001b[0m\u001b[1;33m:\u001b[0m\u001b[1;33m\u001b[0m\u001b[1;33m\u001b[0m\u001b[0m\n\u001b[1;32m---> 10\u001b[1;33m         \u001b[0mram\u001b[0m\u001b[1;33m=\u001b[0m\u001b[0mram\u001b[0m\u001b[1;33m+\u001b[0m\u001b[0ma\u001b[0m\u001b[1;33m\u001b[0m\u001b[1;33m\u001b[0m\u001b[0m\n\u001b[0m\u001b[0;32m     11\u001b[0m         \u001b[1;32mreturn\u001b[0m \u001b[0mram\u001b[0m\u001b[1;33m\u001b[0m\u001b[1;33m\u001b[0m\u001b[0m\n\u001b[0;32m     12\u001b[0m     \u001b[1;32mdef\u001b[0m \u001b[0mçalıştırma\u001b[0m\u001b[1;33m(\u001b[0m\u001b[0mself\u001b[0m\u001b[1;33m)\u001b[0m\u001b[1;33m:\u001b[0m\u001b[1;33m\u001b[0m\u001b[1;33m\u001b[0m\u001b[0m\n",
      "\u001b[1;31mUnboundLocalError\u001b[0m: local variable 'ram' referenced before assignment"
     ]
    }
   ],
   "source": [
    "class Bilgisayar():\n",
    "    def __init__(self,marka,ram,islemci,ekrankartı):\n",
    "        self.marka=marka\n",
    "        self.ram=ram\n",
    "        self.islemci=islemci\n",
    "        self.ekrankartı=ekrankartı\n",
    "    def bilgilerigöster(self):\n",
    "        print(\"Marka: {}   RAM:{}   İSLEMCİ:{}  EKRANKARTI:{}\".format(self.marka,self.ram,self.islemci,self.ekrankartı))\n",
    "    def ramarttırma(self):\n",
    "        ram=ram+a\n",
    "        return ram\n",
    "    def çalıştırma(self):\n",
    "        print(\"Bilgisayar çalışıyor\")\n",
    "        \n",
    "bilgisayar1=Bilgisayar(\"Lenovo\",\"16GB\",\"i7-6700hq\",8)\n",
    "bilgisayar1.bilgilerigöster()\n",
    "bilgisayar1.ramarttırma()\n",
    "bilgisayar1.çalıştırma()"
   ]
  },
  {
   "cell_type": "code",
   "execution_count": null,
   "metadata": {},
   "outputs": [],
   "source": [
    "class Hayvan():\n",
    "    def __init__(self,)"
   ]
  }
 ],
 "metadata": {
  "kernelspec": {
   "display_name": "Python 3",
   "language": "python",
   "name": "python3"
  },
  "language_info": {
   "codemirror_mode": {
    "name": "ipython",
    "version": 3
   },
   "file_extension": ".py",
   "mimetype": "text/x-python",
   "name": "python",
   "nbconvert_exporter": "python",
   "pygments_lexer": "ipython3",
   "version": "3.7.3"
  }
 },
 "nbformat": 4,
 "nbformat_minor": 2
}
