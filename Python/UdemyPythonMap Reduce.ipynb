{
 "cells": [
  {
   "cell_type": "code",
   "execution_count": 4,
   "metadata": {},
   "outputs": [
    {
     "data": {
      "text/plain": [
       "[12, 30, 30, 9]"
      ]
     },
     "execution_count": 4,
     "metadata": {},
     "output_type": "execute_result"
    }
   ],
   "source": [
    "def alan(demet):\n",
    "    return demet[0]*demet[1]\n",
    "liste=[(3,4),(10,3),(5,6),(1,9)]\n",
    "list(map(alan,liste))"
   ]
  },
  {
   "cell_type": "code",
   "execution_count": 7,
   "metadata": {},
   "outputs": [
    {
     "name": "stdout",
     "output_type": "stream",
     "text": [
      "[(3, 4, 5), (6, 8, 10)]\n"
     ]
    }
   ],
   "source": [
    "def üçgen_mi(demet):\n",
    "    if(demet[0]+demet[1]>demet[2] and demet[2]+demet[1]>demet[0] and demet[0]+demet[2]>demet[1] ):\n",
    "        return True\n",
    "    else:\n",
    "        return False\n",
    "liste=[(3,4,5),(6,8,10),(3,10,7)]\n",
    "print(list(filter(üçgen_mi,liste)))\n",
    "        "
   ]
  },
  {
   "cell_type": "code",
   "execution_count": 12,
   "metadata": {},
   "outputs": [
    {
     "name": "stdout",
     "output_type": "stream",
     "text": [
      "30\n"
     ]
    }
   ],
   "source": [
    "from functools import reduce\n",
    "filter=list(filter(lambda x:x%2==0,[1,2,3,4,5,6,7,8,9,10]))\n",
    "print(reduce(lambda x,y:x+y,filter))"
   ]
  },
  {
   "cell_type": "code",
   "execution_count": null,
   "metadata": {},
   "outputs": [],
   "source": []
  }
 ],
 "metadata": {
  "kernelspec": {
   "display_name": "Python 3",
   "language": "python",
   "name": "python3"
  },
  "language_info": {
   "codemirror_mode": {
    "name": "ipython",
    "version": 3
   },
   "file_extension": ".py",
   "mimetype": "text/x-python",
   "name": "python",
   "nbconvert_exporter": "python",
   "pygments_lexer": "ipython3",
   "version": "3.7.3"
  }
 },
 "nbformat": 4,
 "nbformat_minor": 2
}
