{
 "cells": [
  {
   "cell_type": "code",
   "execution_count": 1,
   "metadata": {},
   "outputs": [
    {
     "name": "stdout",
     "output_type": "stream",
     "text": [
      "i: 0\n",
      "i: 1\n",
      "i: 2\n",
      "i: 3\n",
      "i: 4\n"
     ]
    }
   ],
   "source": [
    "i=0\n",
    "while(i<10):\n",
    "    if(i==5):\n",
    "        break\n",
    "    print(\"i:\",i)\n",
    "    i+=1"
   ]
  },
  {
   "cell_type": "code",
   "execution_count": 2,
   "metadata": {},
   "outputs": [
    {
     "name": "stdout",
     "output_type": "stream",
     "text": [
      "i: 1\n",
      "i: 2\n"
     ]
    }
   ],
   "source": [
    "liste=[1,2,3,4,5]\n",
    "for i in liste:\n",
    "    if(i==3):\n",
    "        break\n",
    "    print(\"i:\",i)\n",
    "    "
   ]
  },
  {
   "cell_type": "code",
   "execution_count": 3,
   "metadata": {},
   "outputs": [
    {
     "name": "stdout",
     "output_type": "stream",
     "text": [
      "İsim(Çıkmak için q ya basın)Furkan\n",
      "İsminiz Furkan\n",
      "İsim(Çıkmak için q ya basın)q\n",
      "Programdan Çıkılıyor...\n"
     ]
    }
   ],
   "source": [
    "while True:\n",
    "    isim=input(\"İsim(Çıkmak için q ya basın)\")\n",
    "    if(isim==\"q\"):\n",
    "        print(\"Programdan Çıkılıyor...\")\n",
    "        break\n",
    "    print(\"İsminiz\",isim)"
   ]
  },
  {
   "cell_type": "code",
   "execution_count": 4,
   "metadata": {},
   "outputs": [
    {
     "name": "stdout",
     "output_type": "stream",
     "text": [
      "i: 1\n",
      "i: 2\n",
      "i: 4\n"
     ]
    }
   ],
   "source": [
    "for i in liste:\n",
    "    if(i==3 or i==5):\n",
    "        continue\n",
    "    print(\"i:\",i)"
   ]
  },
  {
   "cell_type": "code",
   "execution_count": null,
   "metadata": {},
   "outputs": [],
   "source": [
    "i=0\n",
    "while(i<10):\n",
    "    if(i==2):\n",
    "        i+=1\n",
    "        continue\n",
    "    print(\"i:\",i)\n",
    "    i+=1"
   ]
  },
  {
   "cell_type": "code",
   "execution_count": null,
   "metadata": {},
   "outputs": [],
   "source": []
  }
 ],
 "metadata": {
  "kernelspec": {
   "display_name": "Python 3",
   "language": "python",
   "name": "python3"
  },
  "language_info": {
   "codemirror_mode": {
    "name": "ipython",
    "version": 3
   },
   "file_extension": ".py",
   "mimetype": "text/x-python",
   "name": "python",
   "nbconvert_exporter": "python",
   "pygments_lexer": "ipython3",
   "version": "3.7.3"
  }
 },
 "nbformat": 4,
 "nbformat_minor": 2
}
