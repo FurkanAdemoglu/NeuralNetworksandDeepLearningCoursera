{
 "cells": [
  {
   "cell_type": "code",
   "execution_count": 1,
   "metadata": {},
   "outputs": [
    {
     "name": "stdout",
     "output_type": "stream",
     "text": [
      "345\n",
      "14\n"
     ]
    }
   ],
   "source": [
    "liste=[\"345\",\"sadas\",\"324a\",\"14\",\"kemal\"]\n",
    "for i in liste:\n",
    "    try:\n",
    "        a=int(i)\n",
    "        print(a)\n",
    "    except:\n",
    "        pass\n",
    "        \n"
   ]
  },
  {
   "cell_type": "code",
   "execution_count": 2,
   "metadata": {},
   "outputs": [
    {
     "name": "stdout",
     "output_type": "stream",
     "text": [
      "34\n",
      "12\n",
      "74\n",
      "96\n",
      "48\n"
     ]
    }
   ],
   "source": [
    "def çift_mi(sayı):\n",
    "    if(sayı%2==0):\n",
    "        return sayı\n",
    "    else:\n",
    "        raise ValueError\n",
    "liste=[34,12,5,74,1,96,48]\n",
    "for i in liste:\n",
    "    try:\n",
    "        print(çift_mi(i))\n",
    "    except ValueError:\n",
    "        pass\n",
    "        "
   ]
  },
  {
   "cell_type": "code",
   "execution_count": null,
   "metadata": {},
   "outputs": [],
   "source": []
  }
 ],
 "metadata": {
  "kernelspec": {
   "display_name": "Python 3",
   "language": "python",
   "name": "python3"
  },
  "language_info": {
   "codemirror_mode": {
    "name": "ipython",
    "version": 3
   },
   "file_extension": ".py",
   "mimetype": "text/x-python",
   "name": "python",
   "nbconvert_exporter": "python",
   "pygments_lexer": "ipython3",
   "version": "3.7.3"
  }
 },
 "nbformat": 4,
 "nbformat_minor": 2
}
